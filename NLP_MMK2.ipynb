{
 "cells": [
  {
   "cell_type": "code",
   "execution_count": 1,
   "id": "8add979e",
   "metadata": {},
   "outputs": [],
   "source": [
    "import xml.etree.ElementTree as ET\n",
    "import pandas as pd\n",
    "import numpy as np\n",
    "import math\n",
    "\n",
    "import Levenshtein \n",
    "import sklearn\n",
    "from sklearn.feature_extraction.text import CountVectorizer\n",
    "from sklearn.metrics.pairwise import cosine_similarity\n",
    "from sklearn.metrics.pairwise import euclidean_distances\n",
    "from sklearn.metrics import jaccard_score\n",
    "from sklearn.metrics import roc_auc_score\n",
    "\n",
    "from sklearn.model_selection import StratifiedKFold\n",
    "from sklearn.model_selection import cross_val_score\n",
    "from sklearn.model_selection import cross_validate\n",
    "from sklearn.model_selection import GridSearchCV"
   ]
  },
  {
   "cell_type": "code",
   "execution_count": 2,
   "id": "81d1115c",
   "metadata": {},
   "outputs": [],
   "source": [
    "parser = ET.XMLParser(encoding=\"utf-8\")\n",
    "tree = ET.parse('paraphrases_gold.xml', parser=parser)\n",
    "root = tree.getroot()"
   ]
  },
  {
   "cell_type": "code",
   "execution_count": 3,
   "id": "35dbb890",
   "metadata": {},
   "outputs": [],
   "source": [
    "a = [i[3].text for i in root[0]]\n",
    "b = [i[4].text for i in root[0]] \n",
    "c = [i[5].text for i in root[0]]"
   ]
  },
  {
   "cell_type": "code",
   "execution_count": 4,
   "id": "19f70579",
   "metadata": {},
   "outputs": [],
   "source": [
    "q = {'text1': a, 'text2': b, 'target': c}\n",
    "df = pd.DataFrame(data=q)"
   ]
  },
  {
   "cell_type": "code",
   "execution_count": 5,
   "id": "b2d6a4e2",
   "metadata": {},
   "outputs": [],
   "source": [
    "def sent_sc(sent1, sent2):\n",
    "    vect = CountVectorizer().fit_transform([sent1, sent2])\n",
    "    cos_sim = cosine_similarity(vect.toarray())\n",
    "    eucl_dist = euclidean_distances(vect.toarray())\n",
    "    jac_sc = jaccard_score(vect.toarray()[0], vect.toarray()[1], average='micro')\n",
    "    lev_dist =  Levenshtein.distance(sent1, sent2)/(len(sent1)+len(sent2))\n",
    "    return [\n",
    "            cos_sim[1][0], \n",
    "            eucl_dist[1][0], \n",
    "            jac_sc, \n",
    "            lev_dist,\n",
    "            ]"
   ]
  },
  {
   "cell_type": "code",
   "execution_count": 6,
   "id": "eb5955b0",
   "metadata": {},
   "outputs": [],
   "source": [
    "df2 = pd.DataFrame(list(map(sent_sc, df['text1'], df['text2'])),\n",
    "                   columns=[\n",
    "                            'Cosine Similarity', \n",
    "                            'Euclidean Distance', \n",
    "                            'Jaccard Similarity',\n",
    "                            'Levenshtein Distance'\n",
    "                           ])\n",
    "df2['target'] = df['target']\n",
    "df2 = df2.astype({'target': int})\n",
    "df2['target'] = df2['target'].apply(lambda x: 1 if x in [0, 1] else 0)"
   ]
  },
  {
   "cell_type": "code",
   "execution_count": 7,
   "id": "3e7102c7",
   "metadata": {},
   "outputs": [
    {
     "data": {
      "text/html": [
       "<div>\n",
       "<style scoped>\n",
       "    .dataframe tbody tr th:only-of-type {\n",
       "        vertical-align: middle;\n",
       "    }\n",
       "\n",
       "    .dataframe tbody tr th {\n",
       "        vertical-align: top;\n",
       "    }\n",
       "\n",
       "    .dataframe thead th {\n",
       "        text-align: right;\n",
       "    }\n",
       "</style>\n",
       "<table border=\"1\" class=\"dataframe\">\n",
       "  <thead>\n",
       "    <tr style=\"text-align: right;\">\n",
       "      <th></th>\n",
       "      <th>Cosine Similarity</th>\n",
       "      <th>Euclidean Distance</th>\n",
       "      <th>Jaccard Similarity</th>\n",
       "      <th>Levenshtein Distance</th>\n",
       "      <th>target</th>\n",
       "    </tr>\n",
       "  </thead>\n",
       "  <tbody>\n",
       "    <tr>\n",
       "      <th>0</th>\n",
       "      <td>0.000000</td>\n",
       "      <td>3.464102</td>\n",
       "      <td>0.000000</td>\n",
       "      <td>0.554348</td>\n",
       "      <td>0</td>\n",
       "    </tr>\n",
       "    <tr>\n",
       "      <th>1</th>\n",
       "      <td>0.285714</td>\n",
       "      <td>3.162278</td>\n",
       "      <td>0.090909</td>\n",
       "      <td>0.367647</td>\n",
       "      <td>0</td>\n",
       "    </tr>\n",
       "    <tr>\n",
       "      <th>2</th>\n",
       "      <td>0.503953</td>\n",
       "      <td>2.828427</td>\n",
       "      <td>0.200000</td>\n",
       "      <td>0.403846</td>\n",
       "      <td>0</td>\n",
       "    </tr>\n",
       "    <tr>\n",
       "      <th>3</th>\n",
       "      <td>0.333333</td>\n",
       "      <td>2.828427</td>\n",
       "      <td>0.111111</td>\n",
       "      <td>0.425532</td>\n",
       "      <td>0</td>\n",
       "    </tr>\n",
       "    <tr>\n",
       "      <th>4</th>\n",
       "      <td>0.000000</td>\n",
       "      <td>4.123106</td>\n",
       "      <td>0.000000</td>\n",
       "      <td>0.439394</td>\n",
       "      <td>0</td>\n",
       "    </tr>\n",
       "  </tbody>\n",
       "</table>\n",
       "</div>"
      ],
      "text/plain": [
       "   Cosine Similarity  Euclidean Distance  Jaccard Similarity  \\\n",
       "0           0.000000            3.464102            0.000000   \n",
       "1           0.285714            3.162278            0.090909   \n",
       "2           0.503953            2.828427            0.200000   \n",
       "3           0.333333            2.828427            0.111111   \n",
       "4           0.000000            4.123106            0.000000   \n",
       "\n",
       "   Levenshtein Distance  target  \n",
       "0              0.554348       0  \n",
       "1              0.367647       0  \n",
       "2              0.403846       0  \n",
       "3              0.425532       0  \n",
       "4              0.439394       0  "
      ]
     },
     "execution_count": 7,
     "metadata": {},
     "output_type": "execute_result"
    }
   ],
   "source": [
    "df2.head()"
   ]
  },
  {
   "cell_type": "code",
   "execution_count": 8,
   "id": "fafd1353",
   "metadata": {},
   "outputs": [],
   "source": [
    "from sklearn.model_selection import train_test_split\n",
    "X = df2.drop(['target'], axis=1)\n",
    "y = df2['target']\n",
    "X_train, X_test, y_train, y_test = train_test_split(X, y, test_size=0.33, random_state=42)"
   ]
  },
  {
   "cell_type": "code",
   "execution_count": 9,
   "id": "fa9d0f67",
   "metadata": {},
   "outputs": [],
   "source": [
    "skfold = StratifiedKFold(n_splits=3, shuffle=True)"
   ]
  },
  {
   "cell_type": "code",
   "execution_count": 10,
   "id": "c03e3e4a",
   "metadata": {},
   "outputs": [
    {
     "data": {
      "text/html": [
       "<div>\n",
       "<style scoped>\n",
       "    .dataframe tbody tr th:only-of-type {\n",
       "        vertical-align: middle;\n",
       "    }\n",
       "\n",
       "    .dataframe tbody tr th {\n",
       "        vertical-align: top;\n",
       "    }\n",
       "\n",
       "    .dataframe thead th {\n",
       "        text-align: right;\n",
       "    }\n",
       "</style>\n",
       "<table border=\"1\" class=\"dataframe\">\n",
       "  <thead>\n",
       "    <tr style=\"text-align: right;\">\n",
       "      <th></th>\n",
       "      <th>fold 1</th>\n",
       "      <th>fold 2</th>\n",
       "      <th>fold 3</th>\n",
       "      <th>mean</th>\n",
       "    </tr>\n",
       "  </thead>\n",
       "  <tbody>\n",
       "    <tr>\n",
       "      <th>accuracy</th>\n",
       "      <td>0.687</td>\n",
       "      <td>0.721</td>\n",
       "      <td>0.716</td>\n",
       "      <td>0.708</td>\n",
       "    </tr>\n",
       "    <tr>\n",
       "      <th>roc_auc</th>\n",
       "      <td>0.759</td>\n",
       "      <td>0.790</td>\n",
       "      <td>0.773</td>\n",
       "      <td>0.774</td>\n",
       "    </tr>\n",
       "    <tr>\n",
       "      <th>recall</th>\n",
       "      <td>0.773</td>\n",
       "      <td>0.805</td>\n",
       "      <td>0.792</td>\n",
       "      <td>0.790</td>\n",
       "    </tr>\n",
       "    <tr>\n",
       "      <th>precision</th>\n",
       "      <td>0.723</td>\n",
       "      <td>0.748</td>\n",
       "      <td>0.749</td>\n",
       "      <td>0.740</td>\n",
       "    </tr>\n",
       "    <tr>\n",
       "      <th>f1</th>\n",
       "      <td>0.747</td>\n",
       "      <td>0.775</td>\n",
       "      <td>0.770</td>\n",
       "      <td>0.764</td>\n",
       "    </tr>\n",
       "  </tbody>\n",
       "</table>\n",
       "</div>"
      ],
      "text/plain": [
       "           fold 1  fold 2  fold 3   mean\n",
       "accuracy    0.687   0.721   0.716  0.708\n",
       "roc_auc     0.759   0.790   0.773  0.774\n",
       "recall      0.773   0.805   0.792  0.790\n",
       "precision   0.723   0.748   0.749  0.740\n",
       "f1          0.747   0.775   0.770  0.764"
      ]
     },
     "execution_count": 10,
     "metadata": {},
     "output_type": "execute_result"
    }
   ],
   "source": [
    "from sklearn.linear_model import LogisticRegression\n",
    "logreg = LogisticRegression()\n",
    "\n",
    "scores = cross_validate(logreg, X, y, cv=skfold, \n",
    "                        scoring=('accuracy', 'roc_auc', 'recall', 'precision', 'f1'))\n",
    "df_sc = pd.DataFrame(list(scores.values())[2:], \n",
    "             index=['accuracy','roc_auc','recall', 'precision', 'f1'], \n",
    "             columns=['fold 1', 'fold 2', 'fold 3'])\n",
    "df_sc['mean'] = list(df_sc.T.mean())\n",
    "df_sc = round(df_sc, 3) \n",
    "df_sc"
   ]
  },
  {
   "cell_type": "code",
   "execution_count": 11,
   "id": "a7985cad",
   "metadata": {},
   "outputs": [
    {
     "data": {
      "text/plain": [
       "array([[ 2.58794515, -0.11846204,  2.41351461, -3.24862925]])"
      ]
     },
     "execution_count": 11,
     "metadata": {},
     "output_type": "execute_result"
    }
   ],
   "source": [
    "logreg = LogisticRegression()\n",
    "logreg.fit(X, y)\n",
    "logreg.coef_"
   ]
  },
  {
   "cell_type": "code",
   "execution_count": 12,
   "id": "5f373ece",
   "metadata": {},
   "outputs": [],
   "source": [
    "def shj(sent1, sent2):\n",
    "    \n",
    "    vect = CountVectorizer().fit_transform([sent1, sent2])\n",
    "    cos_sim = cosine_similarity(vect.toarray())\n",
    "    eucl_dist = euclidean_distances(vect.toarray())\n",
    "    jac_sc = jaccard_score(vect.toarray()[0], vect.toarray()[1], average='micro')\n",
    "    lev_dist =  Levenshtein.distance(sent1, sent2)/(len(sent1)+len(sent2))\n",
    "\n",
    "    x = np.array([\n",
    "        cos_sim[1][0], \n",
    "        eucl_dist[1][0], \n",
    "        jac_sc, \n",
    "        lev_dist\n",
    "        ])\n",
    "    w = np.array([ 2.58794515, -0.11846204,  2.41351461, -3.24862925])\n",
    "    y = np.dot(x, w)\n",
    "    target = round(1/(1+math.exp(-y)))\n",
    "    answer = 'Фраза схожа' if target == 1 else 'Фраза не схожа'\n",
    "    return answer"
   ]
  },
  {
   "cell_type": "code",
   "execution_count": null,
   "id": "bbdceee5",
   "metadata": {},
   "outputs": [],
   "source": []
  },
  {
   "cell_type": "code",
   "execution_count": null,
   "id": "677bf474",
   "metadata": {},
   "outputs": [],
   "source": []
  }
 ],
 "metadata": {
  "kernelspec": {
   "display_name": "Python 3",
   "language": "python",
   "name": "python3"
  },
  "language_info": {
   "codemirror_mode": {
    "name": "ipython",
    "version": 3
   },
   "file_extension": ".py",
   "mimetype": "text/x-python",
   "name": "python",
   "nbconvert_exporter": "python",
   "pygments_lexer": "ipython3",
   "version": "3.8.8"
  }
 },
 "nbformat": 4,
 "nbformat_minor": 5
}
